{
  "nbformat": 4,
  "nbformat_minor": 0,
  "metadata": {
    "colab": {
      "provenance": []
    },
    "kernelspec": {
      "name": "python3",
      "display_name": "Python 3"
    },
    "language_info": {
      "name": "python"
    }
  },
  "cells": [
    {
      "cell_type": "code",
      "execution_count": 5,
      "metadata": {
        "id": "EE9UfpSrGIwP"
      },
      "outputs": [],
      "source": [
        "import numpy as np\n",
        "import pandas as pd\n",
        "import math \n",
        "import cmath\n"
      ]
    },
    {
      "cell_type": "code",
      "source": [
        "# Exercise 1\n",
        "lst = ['apple', 'banana', 'cranberry', 'date', 'eggplant', 'fennel', 'guava']\n",
        "shortlist = []\n",
        "longlist = []\n",
        "for i in lst:\n",
        "  if len(i) <= 5:\n",
        "    shortlist.append(i)\n",
        "  if len(i) > 5:\n",
        "    longlist.append(i)\n",
        "\n",
        "print(\"Short list:\")\n",
        "for i in shortlist:\n",
        "  print(i, \"\\n\")\n",
        "print(\"Long list:\")\n",
        "for x in longlist:\n",
        "  print(x, \"\\n\")\n"
      ],
      "metadata": {
        "colab": {
          "base_uri": "https://localhost:8080/"
        },
        "id": "Mta-yiCiGnHa",
        "outputId": "2f2dce72-5d77-4018-d032-cdd738057337"
      },
      "execution_count": 19,
      "outputs": [
        {
          "output_type": "stream",
          "name": "stdout",
          "text": [
            "Short list:\n",
            "apple \n",
            "\n",
            "date \n",
            "\n",
            "guava \n",
            "\n",
            "Long list:\n",
            "banana \n",
            "\n",
            "cranberry \n",
            "\n",
            "eggplant \n",
            "\n",
            "fennel \n",
            "\n"
          ]
        }
      ]
    },
    {
      "cell_type": "code",
      "source": [
        "#Exercise 2\n",
        "def posNeg(num):\n",
        "  if num > 0:\n",
        "    return True\n",
        "  if num < 0:\n",
        "    return False\n",
        "\n",
        "\n"
      ],
      "metadata": {
        "id": "IWTfysICHoyK"
      },
      "execution_count": 20,
      "outputs": []
    },
    {
      "cell_type": "code",
      "source": [
        "def findquadSolns(a, b, c):\n",
        "  a = float(a)\n",
        "  b = float(b)\n",
        "  c = float(c)\n",
        "  # calculate the discriminant\n",
        "  d = (b**2) - (4*a*c)\n",
        "\n",
        "  # find two solutions\n",
        "  sol1 = (-b-math.sqrt(d))/(2*a)\n",
        "  sol2 = (-b+math.sqrt(d))/(2*a)\n",
        "  return sol1, sol2\n"
      ],
      "metadata": {
        "id": "PnuP5UrtUbzm"
      },
      "execution_count": 23,
      "outputs": []
    },
    {
      "cell_type": "code",
      "source": [
        "a = input(\"Value of a: \")\n",
        "b = input(\"Value of b: \")\n",
        "c = input(\"Value of c: \")\n",
        "\n",
        "sol1, sol2 = findquadSolns(a, b ,  c)\n",
        "print(sol1, sol2)\n",
        "ans1 = posNeg(sol1)\n",
        "ans2 = posNeg(sol2)\n",
        "print(ans1, ans2)"
      ],
      "metadata": {
        "colab": {
          "base_uri": "https://localhost:8080/"
        },
        "id": "P4VJovH6VvkR",
        "outputId": "21498fd5-78ea-4203-f835-8132e8f38049"
      },
      "execution_count": 24,
      "outputs": [
        {
          "output_type": "stream",
          "name": "stdout",
          "text": [
            "Value of a: 1\n",
            "Value of b: 11\n",
            "Value of c: 30\n",
            "-6.0 -5.0\n",
            "False False\n"
          ]
        }
      ]
    },
    {
      "cell_type": "code",
      "source": [
        "1"
      ],
      "metadata": {
        "id": "v38YQ5OSWUpX"
      },
      "execution_count": null,
      "outputs": []
    }
  ]
}